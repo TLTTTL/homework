{
 "cells": [
  {
   "cell_type": "code",
   "execution_count": 21,
   "id": "62de22ac-17bc-457c-bf8a-f6c6dd8cba60",
   "metadata": {},
   "outputs": [
    {
     "name": "stdout",
     "output_type": "stream",
     "text": [
      "   max_depth  precision    recall        f1\n",
      "0          1   0.500000  0.666667  0.555556\n",
      "1          2   0.933333  0.933333  0.933333\n",
      "2          3   0.960470  0.960000  0.959984\n",
      "3          4   0.954369  0.953333  0.953291\n",
      "4          5   0.954369  0.953333  0.953291\n",
      "Depth with the highest recall: 3\n",
      "Depth with the lowest precision: 1\n",
      "Depth with the best F1 score: 3\n"
     ]
    }
   ],
   "source": [
    "from sklearn.datasets import load_iris\n",
    "from sklearn.model_selection import cross_val_predict\n",
    "from sklearn.tree import DecisionTreeClassifier\n",
    "from sklearn.metrics import precision_score, recall_score, f1_score\n",
    "import pandas as pd\n",
    "\n",
    "iris = load_iris()\n",
    "X = pd.DataFrame(iris.data, columns=iris.feature_names)  # 特征\n",
    "y = iris.target   \n",
    "\n",
    "max_depths = range(1, 6)  # max_depth from 1 to 5\n",
    "results = []\n",
    "\n",
    "for depth in max_depths:\n",
    "    model = DecisionTreeClassifier(\n",
    "        max_depth=depth,\n",
    "        min_samples_leaf=2,\n",
    "        min_samples_split=5,\n",
    "        random_state=90\n",
    "    )\n",
    "    \n",
    "    y_pred = cross_val_predict(model, X, y, cv=5)\n",
    "    \n",
    "    precision = precision_score(y, y_pred, average='weighted', zero_division=0)\n",
    "    recall = recall_score(y, y_pred, average='weighted')\n",
    "    f1 = f1_score(y, y_pred, average='weighted')\n",
    "    \n",
    "    results.append({\n",
    "        'max_depth': depth,\n",
    "        'precision': precision,\n",
    "        'recall': recall,\n",
    "        'f1': f1\n",
    "    })\n",
    "\n",
    "results_df = pd.DataFrame(results)\n",
    "print(results_df)\n",
    "\n",
    "best_recall_depth = results_df.loc[results_df['recall'].idxmax(), 'max_depth']\n",
    "worst_precision_depth = results_df.loc[results_df['precision'].idxmin(), 'max_depth']\n",
    "best_f1_depth = results_df.loc[results_df['f1'].idxmax(), 'max_depth']\n",
    "\n",
    "print(f\"Depth with the highest recall: {best_recall_depth}\")\n",
    "print(f\"Depth with the lowest precision: {worst_precision_depth}\")\n",
    "print(f\"Depth with the best F1 score: {best_f1_depth}\")"
   ]
  },
  {
   "cell_type": "code",
   "execution_count": null,
   "id": "f37da3e8-7252-4860-b80a-2dd514de22fb",
   "metadata": {},
   "outputs": [],
   "source": []
  },
  {
   "cell_type": "code",
   "execution_count": null,
   "id": "e92cc05b-291c-4e33-9b94-02229b9a1584",
   "metadata": {},
   "outputs": [],
   "source": []
  },
  {
   "cell_type": "code",
   "execution_count": null,
   "id": "a002c49d-ac31-44f5-8206-80101c3742a0",
   "metadata": {},
   "outputs": [],
   "source": []
  }
 ],
 "metadata": {
  "kernelspec": {
   "display_name": "Python 3 (ipykernel)",
   "language": "python",
   "name": "python3"
  },
  "language_info": {
   "codemirror_mode": {
    "name": "ipython",
    "version": 3
   },
   "file_extension": ".py",
   "mimetype": "text/x-python",
   "name": "python",
   "nbconvert_exporter": "python",
   "pygments_lexer": "ipython3",
   "version": "3.11.7"
  }
 },
 "nbformat": 4,
 "nbformat_minor": 5
}

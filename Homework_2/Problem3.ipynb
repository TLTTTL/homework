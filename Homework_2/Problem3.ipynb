{
 "cells": [
  {
   "cell_type": "code",
   "execution_count": 5,
   "id": "6c9c2ceb-82f9-4863-a62c-abbcfcfde253",
   "metadata": {},
   "outputs": [
    {
     "name": "stdout",
     "output_type": "stream",
     "text": [
      "Model Performance Comparison\n",
      "Original Data: F1 Score = 0.9024, Precision = 0.9487, Recall = 0.8605\n",
      "PCA-1: F1 Score = 0.9250, Precision = 1.0000, Recall = 0.8605\n",
      "PCA-2: F1 Score = 0.9250, Precision = 1.0000, Recall = 0.8605\n",
      "\n",
      "Confusion Matrix Results\n",
      "False Positives (FP): 0\n",
      "True Positives (TP): 37\n",
      "False Positive Rate (FPR): 0.0000\n",
      "True Positive Rate (TPR): 0.8605\n"
     ]
    }
   ],
   "source": [
    "import pandas as pd\n",
    "import numpy as np\n",
    "from sklearn.decomposition import PCA\n",
    "from sklearn.tree import DecisionTreeClassifier\n",
    "from sklearn.model_selection import train_test_split\n",
    "from sklearn.metrics import f1_score, precision_score, recall_score, confusion_matrix\n",
    "\n",
    "url = 'https://archive.ics.uci.edu/ml/machine-learning-databases/breast-cancer-wisconsin/wdbc.data'\n",
    "name = ['ID', 'Diagnosis'] + [f'Feature_{i}' for i in range(1, 31)]\n",
    "data = pd.read_csv(url, header=None, names=name)\n",
    "data['Diagnosis'] = data['Diagnosis'].map({'M': 1, 'B': 0})\n",
    "\n",
    "a = data.drop(columns=['ID', 'Diagnosis'])\n",
    "b = data['Diagnosis']\n",
    "\n",
    "a_train, a_test, b_train, b_test = train_test_split(a, b, test_size=0.2, random_state=42)\n",
    "\n",
    "c_or = DecisionTreeClassifier(criterion='gini', min_samples_leaf=2, min_samples_split=5, max_depth=2, random_state=42)\n",
    "c_or.fit(a_train, b_train)\n",
    "b_pr_or = c_or.predict(a_test)\n",
    "\n",
    "f1_or = f1_score(b_test, b_pr_or)\n",
    "pr_or = precision_score(b_test, b_pr_or)\n",
    "recall_original = recall_score(b_test, b_pr_or)\n",
    "\n",
    "pca_1 = PCA(n_components=1)\n",
    "a_tr_pca1 = pca_1.fit_transform(a_train)\n",
    "a_te_pca1 = pca_1.transform(a_test)\n",
    "\n",
    "c_pca1 = DecisionTreeClassifier(criterion='gini', min_samples_leaf=2, min_samples_split=5, max_depth=2, random_state=42)\n",
    "c_pca1.fit(a_tr_pca1, b_train)\n",
    "y_pred_pca1 = c_pca1.predict(a_te_pca1)\n",
    "\n",
    "f1_pca1 = f1_score(b_test, y_pred_pca1)\n",
    "pr_pca1 = precision_score(b_test, y_pred_pca1)\n",
    "recall_pca1 = recall_score(b_test, y_pred_pca1)\n",
    "\n",
    "pca_2 = PCA(n_components=2)\n",
    "a_tr_pca2 = pca_2.fit_transform(a_train)\n",
    "a_te_pca2 = pca_2.transform(a_test)\n",
    "\n",
    "c_pca2 = DecisionTreeClassifier(criterion='gini', min_samples_leaf=2, min_samples_split=5, max_depth=2, random_state=42)\n",
    "c_pca2.fit(a_tr_pca2, b_train)\n",
    "y_pr_pca2 = c_pca2.predict(a_te_pca2)\n",
    "\n",
    "f1_pca2 = f1_score(b_test, y_pr_pca2)\n",
    "pr_pca2 = precision_score(b_test, y_pr_pca2)\n",
    "recall_pca2 = recall_score(b_test, y_pr_pca2)\n",
    "\n",
    "conf_matrix = confusion_matrix(b_test, y_pr_pca2)\n",
    "TP = conf_matrix[1, 1]\n",
    "FP = conf_matrix[0, 1]\n",
    "TN = conf_matrix[0, 0]\n",
    "FN = conf_matrix[1, 0]\n",
    "FPR = FP / (FP + TN)\n",
    "TPR = TP / (TP + FN)\n",
    "\n",
    "print(\"Model Performance Comparison\")\n",
    "print(f\"Original Data: F1 Score = {f1_or:.4f}, Precision = {pr_or:.4f}, Recall = {recall_original:.4f}\")\n",
    "print(f\"PCA-1: F1 Score = {f1_pca1:.4f}, Precision = {pr_pca1:.4f}, Recall = {recall_pca1:.4f}\")\n",
    "print(f\"PCA-2: F1 Score = {f1_pca2:.4f}, Precision = {pr_pca2:.4f}, Recall = {recall_pca2:.4f}\")\n",
    "\n",
    "print(\"\\nConfusion Matrix Results\")\n",
    "print(f\"False Positives (FP): {FP}\")\n",
    "print(f\"True Positives (TP): {TP}\")\n",
    "print(f\"False Positive Rate (FPR): {FPR:.4f}\")\n",
    "print(f\"True Positive Rate (TPR): {TPR:.4f}\")\n"
   ]
  },
  {
   "cell_type": "code",
   "execution_count": null,
   "id": "f3066cf1-9c69-4958-bfbf-14248acd8fad",
   "metadata": {},
   "outputs": [],
   "source": []
  }
 ],
 "metadata": {
  "kernelspec": {
   "display_name": "Python 3 (ipykernel)",
   "language": "python",
   "name": "python3"
  },
  "language_info": {
   "codemirror_mode": {
    "name": "ipython",
    "version": 3
   },
   "file_extension": ".py",
   "mimetype": "text/x-python",
   "name": "python",
   "nbconvert_exporter": "python",
   "pygments_lexer": "ipython3",
   "version": "3.11.7"
  }
 },
 "nbformat": 4,
 "nbformat_minor": 5
}

{
 "cells": [
  {
   "cell_type": "code",
   "execution_count": 10,
   "id": "1ee55c81-dbc1-4351-8996-fa635cdea866",
   "metadata": {},
   "outputs": [
    {
     "name": "stdout",
     "output_type": "stream",
     "text": [
      "Predicted rating for user 200 on item 95: 4.1569\n",
      "Predicted rating for user 15 on item 95: 0.0000\n",
      "The recommender system will recommend movie 95 to user 200 due to higher predicted rating.\n"
     ]
    }
   ],
   "source": [
    "import pandas as pd\n",
    "import numpy as np\n",
    "from sklearn.metrics.pairwise import cosine_similarity\n",
    "import os\n",
    "\n",
    "data_path = 'E:/ml-100k/u.data'  # Your file path\n",
    "try:\n",
    "    ratings = pd.read_csv(data_path, sep='\\t', names=['user_id', 'item_id', 'rating', 'timestamp'], encoding='utf-8')\n",
    "except FileNotFoundError:\n",
    "    print(f\"Error: File {data_path} not found. Ensure the MovieLens 100k dataset is downloaded and extracted to the correct path.\")\n",
    "    raise\n",
    "    \n",
    "utility_matrix = ratings.pivot(index='user_id', columns='item_id', values='rating')\n",
    "user_means = utility_matrix.mean(axis=1)\n",
    "centralized_matrix = utility_matrix.sub(user_means, axis=0).fillna(0)\n",
    "\n",
    "centralized_matrix_T = centralized_matrix.T\n",
    "item_95_profile = centralized_matrix[95].values.reshape(1, -1)\n",
    "item_similarities = cosine_similarity(centralized_matrix_T)\n",
    "item_95_sim = item_similarities[94]\n",
    "similar_items = np.argsort(item_95_sim)[::-1][1:11]\n",
    "\n",
    "user_200_ratings = utility_matrix.loc[200].fillna(0)\n",
    "user_15_ratings = utility_matrix.loc[15].fillna(0)\n",
    "\n",
    "def predict_rating(user_ratings, similar_items, item_similarities):\n",
    "    weights = item_similarities[similar_items]\n",
    "    ratings = user_ratings.iloc[similar_items + 1]\n",
    "    valid = ratings != 0\n",
    "    if valid.sum() == 0:\n",
    "        return 0\n",
    "    weighted_sum = np.sum(ratings[valid] * weights[valid])\n",
    "    weight_sum = np.sum(weights[valid])\n",
    "    return weighted_sum / weight_sum if weight_sum != 0 else 0\n",
    "\n",
    "pred_200_95 = predict_rating(user_200_ratings, similar_items, item_95_sim)\n",
    "pred_15_95 = predict_rating(user_15_ratings, similar_items, item_95_sim)\n",
    "user_200_profile_user_space = centralized_matrix.loc[200].values.reshape(1, -1)\n",
    "user_15_profile_user_space = centralized_matrix.loc[15].values.reshape(1, -1)\n",
    "print(f\"Predicted rating for user 200 on item 95: {pred_200_95:.4f}\")\n",
    "print(f\"Predicted rating for user 15 on item 95: {pred_15_95:.4f}\")\n",
    "\n",
    "recommended_user = 200 if pred_200_95 > pred_15_95 else 15\n",
    "print(f\"The recommender system will recommend movie 95 to user {recommended_user} due to higher predicted rating.\")"
   ]
  },
  {
   "cell_type": "code",
   "execution_count": null,
   "id": "55f33078-7891-4c54-8b20-da15a3cd4e18",
   "metadata": {},
   "outputs": [],
   "source": []
  }
 ],
 "metadata": {
  "kernelspec": {
   "display_name": "Python 3 (ipykernel)",
   "language": "python",
   "name": "python3"
  },
  "language_info": {
   "codemirror_mode": {
    "name": "ipython",
    "version": 3
   },
   "file_extension": ".py",
   "mimetype": "text/x-python",
   "name": "python",
   "nbconvert_exporter": "python",
   "pygments_lexer": "ipython3",
   "version": "3.11.7"
  }
 },
 "nbformat": 4,
 "nbformat_minor": 5
}

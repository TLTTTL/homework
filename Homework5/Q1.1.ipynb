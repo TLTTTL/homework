{
 "cells": [
  {
   "cell_type": "code",
   "execution_count": 5,
   "id": "57752f3e-0058-428e-8400-bc74edb78e05",
   "metadata": {
    "scrolled": true
   },
   "outputs": [
    {
     "name": "stdout",
     "output_type": "stream",
     "text": [
      "Top 10 users most similar to user 1: [773, 868, 592, 880, 429, 276, 916, 222, 457, 8]\n",
      "Predicted rating for user 1 on item 508: 7.82\n"
     ]
    }
   ],
   "source": [
    "import pandas as pd\n",
    "import numpy as np\n",
    "from sklearn.metrics.pairwise import cosine_similarity\n",
    "import os\n",
    "\n",
    "data_path = 'E:/ml-100k/u.data'  # Your file path\n",
    "try:\n",
    "    ratings = pd.read_csv(data_path, sep='\\t', names=['user_id', 'item_id', 'rating', 'timestamp'], encoding='utf-8')\n",
    "except FileNotFoundError:\n",
    "    print(f\"Error: File {data_path} not found. Ensure the MovieLens 100k dataset is downloaded and extracted to the correct path.\")\n",
    "    raise\n",
    "\n",
    "utility_matrix = ratings.pivot(index='user_id', columns='item_id', values='rating')\n",
    "user_means = utility_matrix.mean(axis=1)\n",
    "centralized_matrix = utility_matrix.sub(user_means, axis=0).fillna(0)\n",
    "\n",
    "cosine_sim = cosine_similarity(centralized_matrix)\n",
    "cosine_sim_df = pd.DataFrame(cosine_sim, index=utility_matrix.index, columns=utility_matrix.index)\n",
    "user_1_sim = cosine_sim_df.loc[1].sort_values(ascending=False)[1:11]  # Exclude user 1\n",
    "top_10_users = user_1_sim.index\n",
    "print(\"Top 10 users most similar to user 1:\", top_10_users.tolist())\n",
    "\n",
    "similar_users_ratings = utility_matrix.loc[top_10_users, 508].dropna()\n",
    "if similar_users_ratings.empty:\n",
    "    print(\"No similar users have rated item 508. Prediction cannot be made.\")\n",
    "else:\n",
    "    weights = user_1_sim.loc[similar_users_ratings.index]\n",
    "    weighted_sum = np.sum(similar_users_ratings * weights)\n",
    "    weight_sum = np.sum(weights)\n",
    "    predicted_rating = weighted_sum / weight_sum if weight_sum != 0 else 0\n",
    "    user_1_mean = user_means.loc[1]\n",
    "    final_predicted_rating = predicted_rating + user_1_mean\n",
    "    print(f\"Predicted rating for user 1 on item 508: {final_predicted_rating:.2f}\")"
   ]
  },
  {
   "cell_type": "code",
   "execution_count": null,
   "id": "3230aa66-c1bb-4a38-a2c6-326ebea9fba8",
   "metadata": {},
   "outputs": [],
   "source": []
  }
 ],
 "metadata": {
  "kernelspec": {
   "display_name": "Python 3 (ipykernel)",
   "language": "python",
   "name": "python3"
  },
  "language_info": {
   "codemirror_mode": {
    "name": "ipython",
    "version": 3
   },
   "file_extension": ".py",
   "mimetype": "text/x-python",
   "name": "python",
   "nbconvert_exporter": "python",
   "pygments_lexer": "ipython3",
   "version": "3.11.7"
  }
 },
 "nbformat": 4,
 "nbformat_minor": 5
}
